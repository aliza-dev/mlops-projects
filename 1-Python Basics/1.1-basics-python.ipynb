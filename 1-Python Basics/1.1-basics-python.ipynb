{
 "cells": [
  {
   "cell_type": "markdown",
   "id": "b79d078a",
   "metadata": {},
   "source": [
    "## Day-1st - Python Programming"
   ]
  },
  {
   "cell_type": "code",
   "execution_count": 1,
   "id": "3cf70f0b",
   "metadata": {},
   "outputs": [
    {
     "data": {
      "text/plain": [
       "2"
      ]
     },
     "execution_count": 1,
     "metadata": {},
     "output_type": "execute_result"
    }
   ],
   "source": [
    "1+1"
   ]
  },
  {
   "cell_type": "code",
   "execution_count": 3,
   "id": "8ed385d7",
   "metadata": {},
   "outputs": [
    {
     "name": "stdout",
     "output_type": "stream",
     "text": [
      "Aliza is a data scientist \n"
     ]
    }
   ],
   "source": [
    "print(\"Aliza is a data scientist \")"
   ]
  },
  {
   "cell_type": "code",
   "execution_count": null,
   "id": "058277d3",
   "metadata": {},
   "outputs": [],
   "source": [
    "## Syntax Semantics \n",
    "## Single line comment, Multi-line comment\n",
    "## Case sensitivity\n",
    "## Indentation \n",
    "## Line continuation\n",
    "## Multiple statements in one line"
   ]
  },
  {
   "cell_type": "code",
   "execution_count": 5,
   "id": "c782d02c",
   "metadata": {},
   "outputs": [],
   "source": [
    "## Syntax: words, letters, symbols/how to write a code.\n",
    "## Semantics: what the code means, what it does."
   ]
  },
  {
   "cell_type": "code",
   "execution_count": 6,
   "id": "04102a55",
   "metadata": {},
   "outputs": [
    {
     "name": "stdout",
     "output_type": "stream",
     "text": [
      "Aliza is doing coding\n"
     ]
    }
   ],
   "source": [
    "## single line comment:\n",
    "print(\"Aliza is doing coding\") ## Aliza is writing coding."
   ]
  },
  {
   "cell_type": "code",
   "execution_count": 7,
   "id": "9315943a",
   "metadata": {},
   "outputs": [],
   "source": [
    "## Multilines comments\n",
    "## for python files ---"
   ]
  },
  {
   "cell_type": "code",
   "execution_count": 10,
   "id": "b80c32e8",
   "metadata": {},
   "outputs": [],
   "source": [
    "## Case sensitivity\n",
    "name = \"Aliza\"\n",
    "Name = \"aliza\""
   ]
  },
  {
   "cell_type": "code",
   "execution_count": 11,
   "id": "3ea984d3",
   "metadata": {},
   "outputs": [
    {
     "name": "stdout",
     "output_type": "stream",
     "text": [
      "Aliza\n",
      "aliza\n"
     ]
    }
   ],
   "source": [
    "print(name)\n",
    "print(Name)"
   ]
  },
  {
   "cell_type": "code",
   "execution_count": 14,
   "id": "750e6b7a",
   "metadata": {},
   "outputs": [
    {
     "name": "stdout",
     "output_type": "stream",
     "text": [
      "You are adult\n"
     ]
    }
   ],
   "source": [
    "## indentation: 4 spaces\\ one-tab\n",
    "age = 20\n",
    "if age > 18:\n",
    "    print(\"You are adult\")"
   ]
  },
  {
   "cell_type": "code",
   "execution_count": 15,
   "id": "d96e4e67",
   "metadata": {},
   "outputs": [
    {
     "name": "stdout",
     "output_type": "stream",
     "text": [
      "You are under-age.\n"
     ]
    }
   ],
   "source": [
    "if age<25:\n",
    "    print(\"You are under-age.\")"
   ]
  },
  {
   "cell_type": "code",
   "execution_count": 16,
   "id": "41a6fee7",
   "metadata": {},
   "outputs": [
    {
     "name": "stdout",
     "output_type": "stream",
     "text": [
      "312\n"
     ]
    }
   ],
   "source": [
    "## line continuation\n",
    "total= 4+65+32+9+22+\\\n",
    "12+34+56+78\n",
    "print(total)"
   ]
  },
  {
   "cell_type": "code",
   "execution_count": 18,
   "id": "91b1c0c4",
   "metadata": {},
   "outputs": [
    {
     "name": "stdout",
     "output_type": "stream",
     "text": [
      "3\n",
      "42\n",
      "56\n"
     ]
    }
   ],
   "source": [
    "## Multiple statements in one line\n",
    "x=3;y=42;z=56\n",
    "print(x)\n",
    "print(y)\n",
    "print(z)"
   ]
  }
 ],
 "metadata": {
  "kernelspec": {
   "display_name": "Python 3",
   "language": "python",
   "name": "python3"
  },
  "language_info": {
   "codemirror_mode": {
    "name": "ipython",
    "version": 3
   },
   "file_extension": ".py",
   "mimetype": "text/x-python",
   "name": "python",
   "nbconvert_exporter": "python",
   "pygments_lexer": "ipython3",
   "version": "3.13.5"
  }
 },
 "nbformat": 4,
 "nbformat_minor": 5
}
