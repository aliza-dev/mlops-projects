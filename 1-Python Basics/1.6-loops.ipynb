{
 "cells": [
  {
   "cell_type": "markdown",
   "id": "3fbd2ebb",
   "metadata": {},
   "source": [
    "## Loops in python\n",
    "- For loop\n",
    "- While loop\n",
    "\n",
    "## Loop control statements\n",
    "- Pass\n",
    "- Continue\n",
    "- Break"
   ]
  },
  {
   "cell_type": "code",
   "execution_count": 1,
   "id": "d34da634",
   "metadata": {},
   "outputs": [
    {
     "name": "stdout",
     "output_type": "stream",
     "text": [
      "24 18 20 22 "
     ]
    }
   ],
   "source": [
    "## 1- For loop\n",
    "\n",
    "age = [21,24,13,18,20,22,19]\n",
    "for i in age:\n",
    "    if i%2==0:\n",
    "        print(i, end = ' ')"
   ]
  },
  {
   "cell_type": "code",
   "execution_count": 5,
   "id": "f416795a",
   "metadata": {},
   "outputs": [
    {
     "name": "stdout",
     "output_type": "stream",
     "text": [
      "1  3  5  7  9  11  13  15  17  19  21  23  25  27  29  31  33  35  37  39  41  43  45  47  49  51  53  55  57  59  61  63  65  67  69  71  73  75  77  79  81  83  85  87  89  91  93  95  97  99  "
     ]
    }
   ],
   "source": [
    "for i in range(100):\n",
    "    if i%2!=0:\n",
    "        print(i, end = '  ')"
   ]
  },
  {
   "cell_type": "code",
   "execution_count": null,
   "id": "2c2c061c",
   "metadata": {},
   "outputs": [
    {
     "name": "stdout",
     "output_type": "stream",
     "text": [
      "4950\n"
     ]
    }
   ],
   "source": [
    "## Tricky question\n",
    "sum = 0\n",
    "for i in range(100):\n",
    "    sum += i\n",
    "    \n",
    "print(sum)"
   ]
  },
  {
   "cell_type": "code",
   "execution_count": 10,
   "id": "56837830",
   "metadata": {},
   "outputs": [
    {
     "name": "stdout",
     "output_type": "stream",
     "text": [
      "93326215443944152681699238856266700490715968264381621468592963895217599993229915608941463976156518286253697920827223758251185210916864000000000000000000000000\n"
     ]
    }
   ],
   "source": [
    "## While loop\n",
    "\n",
    "num = 100 \n",
    "fact = 1\n",
    "count = 1\n",
    "while count<=num:\n",
    "    fact *= count   \n",
    "    count += 1\n",
    "print(fact)"
   ]
  },
  {
   "cell_type": "code",
   "execution_count": 11,
   "id": "c8b38f3a",
   "metadata": {},
   "outputs": [
    {
     "name": "stdout",
     "output_type": "stream",
     "text": [
      "93326215443944152681699238856266700490715968264381621468592963895217599993229915608941463976156518286253697920827223758251185210916864000000000000000000000000\n"
     ]
    }
   ],
   "source": [
    "## While loop\n",
    "\n",
    "num = 1\n",
    "count = 100\n",
    "fact = 1\n",
    "\n",
    "while count >= num:\n",
    "    fact *= count\n",
    "    count -= 1  \n",
    "\n",
    "print(fact)"
   ]
  },
  {
   "cell_type": "markdown",
   "id": "4932cb56",
   "metadata": {},
   "source": [
    "## Loop Control Statements"
   ]
  },
  {
   "cell_type": "code",
   "execution_count": 12,
   "id": "efcc7c8e",
   "metadata": {},
   "outputs": [],
   "source": [
    "## pass statement\n",
    "for i in range(100):\n",
    "    pass"
   ]
  },
  {
   "cell_type": "code",
   "execution_count": 15,
   "id": "0c350848",
   "metadata": {},
   "outputs": [
    {
     "name": "stdout",
     "output_type": "stream",
     "text": [
      "1 3 5 7 9 "
     ]
    }
   ],
   "source": [
    "## Continue statement\n",
    "\n",
    "for i in range(10):\n",
    "    if i%2==0:\n",
    "        continue\n",
    "    print(i, end = ' ' )"
   ]
  },
  {
   "cell_type": "code",
   "execution_count": 16,
   "id": "51822813",
   "metadata": {},
   "outputs": [
    {
     "name": "stdout",
     "output_type": "stream",
     "text": [
      "0  1  2  3  4  5  6  7  8  9  10  11  12  13  14  15  16  17  18  19  20  21  22  23  24  25  26  27  28  29  30  31  32  33  34  35  36  37  "
     ]
    }
   ],
   "source": [
    "for i in range(50):\n",
    "    if i==38:\n",
    "        break\n",
    "    print(i, end = '  ' )"
   ]
  },
  {
   "cell_type": "markdown",
   "id": "d7f7cb3d",
   "metadata": {},
   "source": [
    "## Nested Loops"
   ]
  },
  {
   "cell_type": "code",
   "execution_count": 21,
   "id": "2857d001",
   "metadata": {},
   "outputs": [
    {
     "name": "stdout",
     "output_type": "stream",
     "text": [
      " 0:Aliza\n",
      " 0:Alisha\n",
      " 0:Laika\n",
      " 1:Aliza\n",
      " 1:Alisha\n",
      " 1:Laika\n",
      " 2:Aliza\n",
      " 2:Alisha\n",
      " 2:Laika\n"
     ]
    }
   ],
   "source": [
    "names = ['Aliza', 'Alisha', 'Laika']\n",
    "\n",
    "for i in range(3):\n",
    "    for j in names:\n",
    "        print(f\" {i}:{j}\")"
   ]
  }
 ],
 "metadata": {
  "kernelspec": {
   "display_name": "Python 3",
   "language": "python",
   "name": "python3"
  },
  "language_info": {
   "codemirror_mode": {
    "name": "ipython",
    "version": 3
   },
   "file_extension": ".py",
   "mimetype": "text/x-python",
   "name": "python",
   "nbconvert_exporter": "python",
   "pygments_lexer": "ipython3",
   "version": "3.13.5"
  }
 },
 "nbformat": 4,
 "nbformat_minor": 5
}
