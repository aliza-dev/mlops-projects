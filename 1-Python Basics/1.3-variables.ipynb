{
 "cells": [
  {
   "cell_type": "markdown",
   "id": "e7a32b74",
   "metadata": {},
   "source": [
    "- Varaible Assignment\n",
    "- Naming Convention \n",
    "- Dynamic Typing\n",
    "- & Type Conversion"
   ]
  },
  {
   "cell_type": "code",
   "execution_count": 3,
   "id": "b5e99c14",
   "metadata": {},
   "outputs": [],
   "source": [
    "a=20   ## integers\n",
    "name=\"Aliza\"  ## strings\n",
    "height=5.7    ## floats\n",
    "is_adult=True   ## Boolean"
   ]
  },
  {
   "cell_type": "code",
   "execution_count": 4,
   "id": "554ed277",
   "metadata": {},
   "outputs": [
    {
     "name": "stdout",
     "output_type": "stream",
     "text": [
      "20\n",
      "Aliza\n",
      "5.7\n",
      "True\n"
     ]
    }
   ],
   "source": [
    "print(a)\n",
    "print(name)\n",
    "print(height)\n",
    "print(is_adult)"
   ]
  },
  {
   "cell_type": "code",
   "execution_count": 5,
   "id": "9549805a",
   "metadata": {},
   "outputs": [
    {
     "name": "stdout",
     "output_type": "stream",
     "text": [
      "<class 'int'>\n",
      "<class 'str'>\n",
      "<class 'float'>\n",
      "<class 'bool'>\n"
     ]
    }
   ],
   "source": [
    "print(type(a))\n",
    "print(type(name))\n",
    "print(type(height))\n",
    "print(type(is_adult))"
   ]
  },
  {
   "cell_type": "code",
   "execution_count": 6,
   "id": "464746ae",
   "metadata": {},
   "outputs": [
    {
     "name": "stdout",
     "output_type": "stream",
     "text": [
      "<class 'int'>\n",
      "<class 'str'>\n",
      "<class 'bool'>\n"
     ]
    }
   ],
   "source": [
    "## Python is a dynamically typed language\n",
    "var = 22\n",
    "print(type(var))\n",
    "var = \"Aliza\"\n",
    "print(type(var))\n",
    "var = True\n",
    "print(type(var))"
   ]
  },
  {
   "cell_type": "code",
   "execution_count": 7,
   "id": "12c8c2af",
   "metadata": {},
   "outputs": [
    {
     "name": "stdout",
     "output_type": "stream",
     "text": [
      "<class 'str'>\n",
      "<class 'int'>\n"
     ]
    }
   ],
   "source": [
    "## Type conversion\n",
    "age = '21'\n",
    "print(type(age))\n",
    "age_1 = int(age)\n",
    "print(type(age_1))"
   ]
  },
  {
   "cell_type": "code",
   "execution_count": 8,
   "id": "ca7980ca",
   "metadata": {},
   "outputs": [],
   "source": [
    "## Naming Convention\n",
    "\n",
    "## small case letters, underscore, and numbers\n"
   ]
  },
  {
   "cell_type": "code",
   "execution_count": 9,
   "id": "810d31c9",
   "metadata": {},
   "outputs": [],
   "source": [
    "## input() Function\n",
    "\n",
    "num_1= input(\"Enter first number!\")\n",
    "num_2=input(\"Enter second number!\")"
   ]
  },
  {
   "cell_type": "code",
   "execution_count": 10,
   "id": "20f992fd",
   "metadata": {},
   "outputs": [
    {
     "name": "stdout",
     "output_type": "stream",
     "text": [
      "24\n",
      "17\n"
     ]
    }
   ],
   "source": [
    "print(num_1)\n",
    "print(num_2)"
   ]
  },
  {
   "cell_type": "code",
   "execution_count": 11,
   "id": "33d0b2f2",
   "metadata": {},
   "outputs": [
    {
     "name": "stdout",
     "output_type": "stream",
     "text": [
      "<class 'str'>\n",
      "<class 'str'>\n"
     ]
    }
   ],
   "source": [
    "print(type(num_1))\n",
    "print(type(num_2))"
   ]
  },
  {
   "cell_type": "code",
   "execution_count": null,
   "id": "a7f0e0fb",
   "metadata": {},
   "outputs": [
    {
     "name": "stdout",
     "output_type": "stream",
     "text": [
      "51\n",
      "-13\n",
      "608\n",
      "0.59375\n"
     ]
    }
   ],
   "source": [
    "## Simple Calculator\n",
    "num_1= int(input(\"Enter first number!\"))\n",
    "num_2=int(input(\"Enter second number!\"))\n",
    "sum = num_1 + num_2\n",
    "diff = num_2 - num_1\n",
    "multi = num_1 * num_2\n",
    "div = num_2 / num_1\n",
    "print(sum)\n",
    "print(diff)\n",
    "print(multi)\n",
    "print(div)"
   ]
  },
  {
   "cell_type": "markdown",
   "id": "eda1635f",
   "metadata": {},
   "source": [
    "## Basic data types\n",
    "\n",
    "- Strings\n",
    "- Boolean \n",
    "- Integer\n",
    "- Float"
   ]
  },
  {
   "cell_type": "code",
   "execution_count": null,
   "id": "0228fa26",
   "metadata": {},
   "outputs": [],
   "source": [
    "## Strings\n",
    "name = \"Aliza\""
   ]
  },
  {
   "cell_type": "code",
   "execution_count": 16,
   "id": "e40c625b",
   "metadata": {},
   "outputs": [
    {
     "name": "stdout",
     "output_type": "stream",
     "text": [
      "ALIZA\n"
     ]
    }
   ],
   "source": [
    "print(name.upper())  "
   ]
  },
  {
   "cell_type": "code",
   "execution_count": 17,
   "id": "fcf45097",
   "metadata": {},
   "outputs": [],
   "source": [
    "## Boolean\n",
    "x = True\n",
    "y = False"
   ]
  },
  {
   "cell_type": "code",
   "execution_count": 18,
   "id": "4bba8f31",
   "metadata": {},
   "outputs": [
    {
     "data": {
      "text/plain": [
       "(1, 1)"
      ]
     },
     "execution_count": 18,
     "metadata": {},
     "output_type": "execute_result"
    }
   ],
   "source": [
    "x.as_integer_ratio()"
   ]
  },
  {
   "cell_type": "code",
   "execution_count": 19,
   "id": "632a0969",
   "metadata": {},
   "outputs": [],
   "source": [
    "## Integer\n",
    "\n",
    "age = 20"
   ]
  },
  {
   "cell_type": "code",
   "execution_count": 20,
   "id": "7348ad6a",
   "metadata": {},
   "outputs": [],
   "source": [
    "## Float\n",
    "\n",
    "weight = 50.0"
   ]
  }
 ],
 "metadata": {
  "kernelspec": {
   "display_name": "Python 3",
   "language": "python",
   "name": "python3"
  },
  "language_info": {
   "codemirror_mode": {
    "name": "ipython",
    "version": 3
   },
   "file_extension": ".py",
   "mimetype": "text/x-python",
   "name": "python",
   "nbconvert_exporter": "python",
   "pygments_lexer": "ipython3",
   "version": "3.13.5"
  }
 },
 "nbformat": 4,
 "nbformat_minor": 5
}
