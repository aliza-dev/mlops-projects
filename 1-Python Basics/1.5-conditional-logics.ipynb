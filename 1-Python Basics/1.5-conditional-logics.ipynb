{
 "cells": [
  {
   "cell_type": "markdown",
   "id": "02d501e2",
   "metadata": {},
   "source": [
    "## Conditional logic\n",
    "- if, else, elif\n",
    "- nested if-else,\n",
    "- real world"
   ]
  },
  {
   "cell_type": "code",
   "execution_count": 2,
   "id": "e2cf30e6",
   "metadata": {},
   "outputs": [
    {
     "name": "stdout",
     "output_type": "stream",
     "text": [
      "You are eligible for voting.\n"
     ]
    }
   ],
   "source": [
    "age = 20\n",
    "\n",
    "if age > 18:\n",
    "    print(\"You are eligible for voting.\")"
   ]
  },
  {
   "cell_type": "code",
   "execution_count": 3,
   "id": "4a84f85d",
   "metadata": {},
   "outputs": [
    {
     "data": {
      "text/plain": [
       "True"
      ]
     },
     "execution_count": 3,
     "metadata": {},
     "output_type": "execute_result"
    }
   ],
   "source": [
    "a = 21\n",
    "age > 18"
   ]
  },
  {
   "cell_type": "code",
   "execution_count": 4,
   "metadata": {},
   "outputs": [
    {
     "name": "stdout",
     "output_type": "stream",
     "text": [
      "You are not eligible.\n"
     ]
    }
   ],
   "source": [
    "age = 13\n",
    "\n",
    "if age > 18:\n",
    "    print(\"You are eligible for voting.\")\n",
    "else:\n",
    "    print(\"You are not eligible.\")"
   ]
  },
  {
   "cell_type": "code",
   "execution_count": 5,
   "metadata": {},
   "outputs": [
    {
     "name": "stdout",
     "output_type": "stream",
     "text": [
      "You are eligible for voting.\n"
     ]
    }
   ],
   "source": [
    "age = 21\n",
    "\n",
    "if age > 18:\n",
    "    print(\"You are eligible for voting.\")\n",
    "elif age < 18:\n",
    "    print(\"You are younger.\")\n",
    "elif age != int:\n",
    "    print(\"Invalid age.\")\n",
    "else:\n",
    "    print(\"you are not eligible.\")\n",
    "    "
   ]
  },
  {
   "cell_type": "code",
   "execution_count": null,
   "id": "a1435907",
   "metadata": {},
   "outputs": [
    {
     "name": "stdout",
     "output_type": "stream",
     "text": [
      "Modulo = 3\n"
     ]
    }
   ],
   "source": [
    "# Calculator with the help of nested if-else\n",
    "\n",
    "num_1 = int(input(\"Enter first number: \"))\n",
    "num_2 = int(input(\"Enter second number: \"))     \n",
    "operation = input(\"Enter operation (+, -, *, /, //, %): \")\n",
    "\n",
    "if operation == \"+\":\n",
    "    result = num_1 + num_2\n",
    "    print(f\"Sum = {result}\")\n",
    "\n",
    "elif operation == \"-\":\n",
    "    result = num_1 - num_2\n",
    "    print(f\"Difference = {result}\")\n",
    "\n",
    "elif operation == \"*\":\n",
    "    result = num_1 * num_2\n",
    "    print(f\"Multiplication = {result}\")\n",
    "\n",
    "elif operation == \"/\":\n",
    "    if num_2 != 0:\n",
    "        result = num_1 / num_2\n",
    "        print(f\"Division = {result}\")\n",
    "    else:\n",
    "        print(\"Error: Division by zero is not possible, change the number.\")\n",
    "\n",
    "elif operation == \"//\":\n",
    "    if num_2 != 0:\n",
    "        result = num_1 // num_2\n",
    "        print(f\"Floor Division = {result}\")\n",
    "    else:\n",
    "        print(\"Error: Division by zero is not possible, change the number.\")\n",
    "\n",
    "elif operation == \"%\":\n",
    "    if num_2 != 0:\n",
    "        result = num_1 % num_2\n",
    "        print(f\"Modulo = {result}\")\n",
    "    else:\n",
    "        print(\"Error: Division by zero is not possible, change the number.\")\n",
    "\n",
    "else:\n",
    "    print(\"Invalid operation\")\n"
   ]
  },
  {
   "cell_type": "code",
   "execution_count": 6,
   "id": "8062d59c",
   "metadata": {},
   "outputs": [
    {
     "name": "stdout",
     "output_type": "stream",
     "text": [
      "The 2025 is not a leap year.\n"
     ]
    }
   ],
   "source": [
    "# Nested if-else\n",
    "\n",
    "year = int(input(\"Enter the year: \")) \n",
    "\n",
    "if year%4==0:\n",
    "    if year%100==0:\n",
    "        if year%400==0:\n",
    "            print(f\"The {year} is a leap year.\")\n",
    "        else:\n",
    "            print(f\"The {year} is not a leap year.\")\n",
    "        print(f\"The {year} is a leap year.\")\n",
    "    print(f\"The {year} is not a leap year.\")\n",
    "else:\n",
    "    print(f\"The {year} is not a leap year.\")"
   ]
  },
  {
   "cell_type": "code",
   "execution_count": 8,
   "id": "2026de3c",
   "metadata": {},
   "outputs": [
    {
     "name": "stdout",
     "output_type": "stream",
     "text": [
      "This is a honda bike.\n"
     ]
    }
   ],
   "source": [
    "bike = \"Honda\"\n",
    "print(f\"This is a {bike.lower()} bike.\")"
   ]
  }
 ],
 "metadata": {
  "kernelspec": {
   "display_name": "Python 3",
   "language": "python",
   "name": "python3"
  },
  "language_info": {
   "codemirror_mode": {
    "name": "ipython",
    "version": 3
   },
   "file_extension": ".py",
   "mimetype": "text/x-python",
   "name": "python",
   "nbconvert_exporter": "python",
   "pygments_lexer": "ipython3",
   "version": "3.13.5"
  }
 },
 "nbformat": 4,
 "nbformat_minor": 5
}
