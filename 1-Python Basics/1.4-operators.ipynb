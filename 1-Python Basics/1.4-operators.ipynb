{
 "cells": [
  {
   "cell_type": "markdown",
   "id": "67fbc177",
   "metadata": {},
   "source": [
    "## Operators\n",
    "## Types of operators\n",
    "- Arithematic\n",
    "- Logical\n",
    "- Comparison"
   ]
  },
  {
   "cell_type": "markdown",
   "id": "e277dfd0",
   "metadata": {},
   "source": [
    "### Arithmetic Operators"
   ]
  },
  {
   "cell_type": "code",
   "execution_count": 1,
   "id": "f1792aed",
   "metadata": {},
   "outputs": [
    {
     "name": "stdout",
     "output_type": "stream",
     "text": [
      "0.75\n",
      "0\n",
      "0\n"
     ]
    }
   ],
   "source": [
    "## +\n",
    "## -\n",
    "## /\n",
    "## / /\n",
    "## %\n",
    "\n",
    "div = 3/4\n",
    "floor_div = 3//4\n",
    "modulo = 4%2\n",
    "\n",
    "print(div)\n",
    "print(floor_div)\n",
    "print(modulo) \n"
   ]
  },
  {
   "cell_type": "code",
   "execution_count": 3,
   "id": "60cba485",
   "metadata": {},
   "outputs": [
    {
     "name": "stdout",
     "output_type": "stream",
     "text": [
      "False\n"
     ]
    }
   ],
   "source": [
    "## Comparison Operators\n",
    "gene_1 = \"ATTAGCA\"\n",
    "gene_2 = \"ATTARGCA\"\n",
    "print(gene_1 == gene_2)"
   ]
  },
  {
   "cell_type": "code",
   "execution_count": 4,
   "id": "b05a2e7d",
   "metadata": {},
   "outputs": [],
   "source": [
    "## ==\n",
    "## !=\n",
    "## >=\n",
    "## <=\n",
    "## >\n",
    "## <"
   ]
  },
  {
   "cell_type": "code",
   "execution_count": 6,
   "id": "c52c4f8c",
   "metadata": {},
   "outputs": [
    {
     "data": {
      "text/plain": [
       "True"
      ]
     },
     "execution_count": 6,
     "metadata": {},
     "output_type": "execute_result"
    }
   ],
   "source": [
    "## LogicL Operators\n",
    "\n",
    "## and\n",
    "## or\n",
    "## not  \n",
    "\n",
    "x = True\n",
    "y = True\n",
    "x and y"
   ]
  },
  {
   "cell_type": "code",
   "execution_count": 7,
   "id": "d7bef459",
   "metadata": {},
   "outputs": [
    {
     "data": {
      "text/plain": [
       "True"
      ]
     },
     "execution_count": 7,
     "metadata": {},
     "output_type": "execute_result"
    }
   ],
   "source": [
    "# or\n",
    "\n",
    "x = False\n",
    "y = True\n",
    "\n",
    "x or y"
   ]
  },
  {
   "cell_type": "code",
   "execution_count": 8,
   "id": "e3e82104",
   "metadata": {},
   "outputs": [
    {
     "data": {
      "text/plain": [
       "False"
      ]
     },
     "execution_count": 8,
     "metadata": {},
     "output_type": "execute_result"
    }
   ],
   "source": [
    "## Not\n",
    "\n",
    "x = True\n",
    "not x"
   ]
  }
 ],
 "metadata": {
  "kernelspec": {
   "display_name": "Python 3",
   "language": "python",
   "name": "python3"
  },
  "language_info": {
   "codemirror_mode": {
    "name": "ipython",
    "version": 3
   },
   "file_extension": ".py",
   "mimetype": "text/x-python",
   "name": "python",
   "nbconvert_exporter": "python",
   "pygments_lexer": "ipython3",
   "version": "3.12.0"
  }
 },
 "nbformat": 4,
 "nbformat_minor": 5
}
