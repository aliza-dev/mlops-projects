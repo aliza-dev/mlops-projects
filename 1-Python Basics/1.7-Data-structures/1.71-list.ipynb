{
 "cells": [
  {
   "cell_type": "markdown",
   "id": "422d4804",
   "metadata": {},
   "source": [
    "## Lists in Python\n",
    "- How to create the lists\n",
    "- How to access elements in the lists\n",
    "- List Slicing\n",
    "- List Methods\n",
    "- Nested Lists\n",
    "- Iterating over the list\n",
    "- List Comprehensions\n",
    "- Nested list Comprehension"
   ]
  },
  {
   "cell_type": "markdown",
   "id": "e0694799",
   "metadata": {},
   "source": [
    "- List are mutable collection of data."
   ]
  },
  {
   "cell_type": "code",
   "execution_count": null,
   "id": "6f519bcd",
   "metadata": {},
   "outputs": [
    {
     "name": "stdout",
     "output_type": "stream",
     "text": [
      "<class 'list'>\n"
     ]
    }
   ],
   "source": [
    "## Creating list\n",
    "\n",
    "lst = []\n",
    "print(type(lst))"
   ]
  },
  {
   "cell_type": "code",
   "execution_count": 2,
   "id": "329d6e70",
   "metadata": {},
   "outputs": [
    {
     "name": "stdout",
     "output_type": "stream",
     "text": [
      "[1, 2, 3, 4, 5, 'Aliza', 'Laika', 'Alisha', 5.5, 6.6, True, False]\n"
     ]
    }
   ],
   "source": [
    "lst = [1, 2, 3, 4, 5, \"Aliza\", \"Laika\", \"Alisha\",5.5, 6.6, True, False]\n",
    "print(lst)"
   ]
  },
  {
   "cell_type": "code",
   "execution_count": 3,
   "id": "8e5e9ee9",
   "metadata": {},
   "outputs": [
    {
     "name": "stdout",
     "output_type": "stream",
     "text": [
      "1\n",
      "2\n",
      "False\n",
      "False\n"
     ]
    }
   ],
   "source": [
    "## Accessing list \n",
    "## Indexing for accessing list elements\n",
    "\n",
    "print (lst[0])  \n",
    "print (lst[1])  \n",
    "print (lst[11])\n",
    "print (lst[-1])"
   ]
  },
  {
   "cell_type": "code",
   "execution_count": 13,
   "id": "53faf939",
   "metadata": {},
   "outputs": [
    {
     "name": "stdout",
     "output_type": "stream",
     "text": [
      "[1, 2, 3]\n",
      "[3, 4, 5, 'Aliza']\n",
      "[3, 5, 'Laika', 5.5, True]\n",
      "[3, 4, 5, 'Aliza', 'Laika', 'Alisha', 5.5, 6.6, True, False]\n",
      "[1, 2, 3, 4, 5, 'Aliza', 'Laika']\n",
      "[False, True, 6.6, 5.5, 'Alisha', 'Laika', 'Aliza', 5, 4, 3, 2, 1]\n"
     ]
    }
   ],
   "source": [
    "## Slicing Operations\n",
    "\n",
    "print(lst[0:3])\n",
    "print(lst[2:6])\n",
    "print(lst[2::2]) \n",
    "print(lst[2:])\n",
    "print(lst[:7])\n",
    "print(lst[-1::-1])"
   ]
  },
  {
   "cell_type": "code",
   "execution_count": 14,
   "id": "ac79e08b",
   "metadata": {},
   "outputs": [
    {
     "name": "stdout",
     "output_type": "stream",
     "text": [
      "[1, 2, 3, 4, 5, 'Aliza', 'Laika', 'Computer science', 5.5, 6.6, True, False]\n"
     ]
    }
   ],
   "source": [
    "## Modify the list element\n",
    "\n",
    "lst[7] = \"Computer science\"\n",
    "print(lst)"
   ]
  },
  {
   "cell_type": "code",
   "execution_count": 15,
   "id": "8c76bd50",
   "metadata": {},
   "outputs": [
    {
     "name": "stdout",
     "output_type": "stream",
     "text": [
      "[1, 2, 3, 4, 5, 'Aliza', 'Laika', 'Computer science', 5.5, 6.6, True, False, 'Rubab']\n",
      "Rubab\n",
      "[1, 2, 3, 4, 5, 'Aliza', 'Laika', 5.5, 6.6, True, False]\n"
     ]
    }
   ],
   "source": [
    "## List Methods\n",
    "\n",
    "lst.append(\"Rubab\")\n",
    "print(lst)\n",
    "\n",
    "out_put = lst.pop()\n",
    "print(out_put)\n",
    "\n",
    "lst.remove(\"Computer science\")\n",
    "print(lst)"
   ]
  },
  {
   "cell_type": "code",
   "execution_count": 18,
   "id": "46e88250",
   "metadata": {},
   "outputs": [
    {
     "name": "stdout",
     "output_type": "stream",
     "text": [
      "['Aliza', 'Laika', 'apple', 'banana', 'cat', 'cherry', 'dog']\n"
     ]
    }
   ],
   "source": [
    "fruits = [\"banana\", \"apple\", \"cherry\", \"dog\", \"cat\", \"Aliza\", \"Laika\"]\n",
    "\n",
    "fruits.sort()\n",
    "print(fruits)"
   ]
  },
  {
   "cell_type": "code",
   "execution_count": 22,
   "id": "400bc6a3",
   "metadata": {},
   "outputs": [
    {
     "name": "stdout",
     "output_type": "stream",
     "text": [
      "3\n",
      "5\n"
     ]
    }
   ],
   "source": [
    "## Nested Lists\n",
    "\n",
    "lst =[\n",
    "    [1, 2, 3],\n",
    "    [4, 5, 6],\n",
    "    [7, 8, 9]\n",
    "]\n",
    "\n",
    "print(lst[0][2])  \n",
    "print(lst[1][1])"
   ]
  },
  {
   "cell_type": "code",
   "execution_count": 23,
   "id": "0b98d00a",
   "metadata": {},
   "outputs": [
    {
     "name": "stdout",
     "output_type": "stream",
     "text": [
      "BANANA\n",
      "APPLE\n",
      "CHERRY\n",
      "DOG\n",
      "CAT\n",
      "ALIZA\n",
      "LAIKA\n"
     ]
    }
   ],
   "source": [
    "## Iteratig over the list\n",
    "fruits = [\"banana\", \"apple\", \"cherry\", \"dog\", \"cat\", \"Aliza\", \"Laika\"]\n",
    "\n",
    "for i in fruits:\n",
    "    print(i.upper())    "
   ]
  },
  {
   "cell_type": "code",
   "execution_count": 24,
   "id": "26fc2087",
   "metadata": {},
   "outputs": [
    {
     "name": "stdout",
     "output_type": "stream",
     "text": [
      "[1, 2, 3, 4, 5, 6, 7, 8, 9]\n"
     ]
    }
   ],
   "source": [
    "lst =[\n",
    "    [1, 2, 3],\n",
    "    [4, 5, 6],\n",
    "    [7, 8, 9]\n",
    "]\n",
    "\n",
    "num=[]\n",
    "\n",
    "for i in lst:\n",
    "    for j in i:\n",
    "        num.append(j)\n",
    "\n",
    "print(num)"
   ]
  },
  {
   "cell_type": "markdown",
   "id": "7e542613",
   "metadata": {},
   "source": [
    "### List Comprehension\n",
    "\n",
    "formate_1 : [*expression for item in iterable*]\n",
    "\n",
    "formate_2 \" [*expression for item in iterable if condition*]\n",
    "\n",
    "### Nested list Comprehension\n",
    "\n",
    "format_3 : [*expression for item in iterable if condition for item2 in iterable2 if condition2*]"
   ]
  },
  {
   "cell_type": "code",
   "execution_count": 28,
   "id": "132461ea",
   "metadata": {},
   "outputs": [
    {
     "name": "stdout",
     "output_type": "stream",
     "text": [
      "[0, 4, 16, 36, 64]\n"
     ]
    }
   ],
   "source": [
    "## List Comprehension\n",
    "\n",
    "lst = []\n",
    "\n",
    "for i in range(10):\n",
    "    if i % 2 == 0:\n",
    "        lst.append(i*i)\n",
    "        \n",
    "print(lst)"
   ]
  },
  {
   "cell_type": "code",
   "execution_count": 29,
   "id": "a34c3a71",
   "metadata": {},
   "outputs": [
    {
     "name": "stdout",
     "output_type": "stream",
     "text": [
      "[1, 9, 25, 49, 81]\n"
     ]
    }
   ],
   "source": [
    "lst = [ i*i for i in range(10) if i%2!=0]\n",
    "\n",
    "print(lst)"
   ]
  },
  {
   "cell_type": "code",
   "execution_count": 30,
   "id": "6556e296",
   "metadata": {},
   "outputs": [
    {
     "name": "stdout",
     "output_type": "stream",
     "text": [
      "[1, 2, 3, 4, 5, 6, 7, 8, 9]\n"
     ]
    }
   ],
   "source": [
    "lst =[\n",
    "    [1, 2, 3],\n",
    "    [4, 5, 6],\n",
    "    [7, 8, 9]\n",
    "]\n",
    "\n",
    "## Nested list Comprehension\n",
    "\n",
    "nest_lst = [j for i in lst for j in i]\n",
    "\n",
    "print(nest_lst)"
   ]
  }
 ],
 "metadata": {
  "kernelspec": {
   "display_name": "Python 3",
   "language": "python",
   "name": "python3"
  },
  "language_info": {
   "codemirror_mode": {
    "name": "ipython",
    "version": 3
   },
   "file_extension": ".py",
   "mimetype": "text/x-python",
   "name": "python",
   "nbconvert_exporter": "python",
   "pygments_lexer": "ipython3",
   "version": "3.12.0"
  }
 },
 "nbformat": 4,
 "nbformat_minor": 5
}
