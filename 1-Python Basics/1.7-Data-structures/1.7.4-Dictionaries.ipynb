{
 "cells": [
  {
   "cell_type": "markdown",
   "id": "e398c1cf",
   "metadata": {},
   "source": [
    "## Dictionaries in Python"
   ]
  },
  {
   "cell_type": "code",
   "execution_count": 1,
   "id": "6273e95f",
   "metadata": {},
   "outputs": [
    {
     "name": "stdout",
     "output_type": "stream",
     "text": [
      "<class 'dict'>\n"
     ]
    }
   ],
   "source": [
    "## Creating Dictionaries\n",
    "\n",
    "dict_1 = {}\n",
    "print(type(dict_1))"
   ]
  },
  {
   "cell_type": "code",
   "execution_count": 6,
   "id": "9539aa44",
   "metadata": {},
   "outputs": [
    {
     "name": "stdout",
     "output_type": "stream",
     "text": [
      "{'name': 'Aliza', 'age': 20, 'field': 'Data Science'}\n"
     ]
    }
   ],
   "source": [
    "dict_1 = {'name': 'Aliza' ,'age': 20 , 'field': 'Data Science'}\n",
    "print(dict_1)"
   ]
  },
  {
   "cell_type": "markdown",
   "id": "3dd9ea09",
   "metadata": {},
   "source": [
    "- Key: Unique,Immutable"
   ]
  },
  {
   "cell_type": "code",
   "execution_count": null,
   "id": "f607166f",
   "metadata": {},
   "outputs": [
    {
     "name": "stdout",
     "output_type": "stream",
     "text": [
      "Aliza\n",
      "20\n"
     ]
    }
   ],
   "source": [
    "## Accessing data on the basis of key\n",
    "\n",
    "print(dict_1['name'])\n",
    "print(dict_1['age'])"
   ]
  },
  {
   "cell_type": "code",
   "execution_count": 10,
   "id": "69f751a7",
   "metadata": {},
   "outputs": [
    {
     "name": "stdout",
     "output_type": "stream",
     "text": [
      "{'name': 'Fatima', 'age': 20, 'city': 'Faisalabad'}\n"
     ]
    }
   ],
   "source": [
    "dict_1 = {\"name\":\"Aliza\" ,\"age\":20, \"city\":\"Faisalabad\", \"name\": \"Fatima\"}\n",
    "print(dict_1)"
   ]
  },
  {
   "cell_type": "code",
   "execution_count": 11,
   "id": "26b13598",
   "metadata": {},
   "outputs": [
    {
     "name": "stdout",
     "output_type": "stream",
     "text": [
      "Fatima\n",
      "20\n",
      "Fatima\n",
      "20\n"
     ]
    }
   ],
   "source": [
    "## Dictionary Methods\n",
    "\n",
    "## Accessing data on the basis of key\n",
    "\n",
    "print(dict_1['name'])\n",
    "print(dict_1['age'])\n",
    "\n",
    "## Accessing data using dictionary methods\n",
    "\n",
    "print(dict_1.get('name'))\n",
    "print(dict_1.get('age'))"
   ]
  },
  {
   "cell_type": "code",
   "execution_count": 13,
   "id": "38d704f2",
   "metadata": {},
   "outputs": [
    {
     "name": "stdout",
     "output_type": "stream",
     "text": [
      "dict_keys(['name', 'age', 'city'])\n",
      "dict_values(['Fatima', 20, 'Faisalabad'])\n",
      "dict_items([('name', 'Fatima'), ('age', 20), ('city', 'Faisalabad')])\n"
     ]
    }
   ],
   "source": [
    "## Others Methods\n",
    "\n",
    "keys = dict_1.keys()\n",
    "values = dict_1.values()\n",
    "items = dict_1.items()\n",
    "\n",
    "print(keys)\n",
    "print(values)   \n",
    "print(items)"
   ]
  },
  {
   "cell_type": "code",
   "execution_count": 14,
   "id": "d12147ad",
   "metadata": {},
   "outputs": [
    {
     "name": "stdout",
     "output_type": "stream",
     "text": [
      "{'name': 'Fatima', 'age': 20, 'city': 'Faisalabad'}\n"
     ]
    }
   ],
   "source": [
    "## Shallow Copy\n",
    "\n",
    "clone_1 = dict_1\n",
    "print(clone_1)"
   ]
  },
  {
   "cell_type": "code",
   "execution_count": 21,
   "id": "51343cc5",
   "metadata": {},
   "outputs": [],
   "source": [
    "## dict_1[\"name\"] = \"Aliza\"\n",
    "\n",
    "## print(dict_1)\n",
    "## print(clone_1)"
   ]
  },
  {
   "cell_type": "code",
   "execution_count": 23,
   "id": "ade2d7cd",
   "metadata": {},
   "outputs": [],
   "source": [
    "## clone_2 = dict_1.copy()\n",
    "## dict_1[\"name\"] = \"Ayesha\"\n",
    "\n",
    "## print(dict_1)\n",
    "## print(clone_2)"
   ]
  },
  {
   "cell_type": "code",
   "execution_count": 25,
   "id": "e13293bf",
   "metadata": {},
   "outputs": [],
   "source": [
    "## Update, Delete and Adding new records\n",
    "\n",
    "# dict_1[\"age\"] = 21\n",
    "# print(dict_1)\n",
    "\n",
    "# dict_1[\"country\"] = \"Pakistan\"\n",
    "# print(dict_1)\n",
    "\n",
    "# del dict_1[\"country\"]\n",
    "# print(dict_1)"
   ]
  },
  {
   "cell_type": "code",
   "execution_count": 28,
   "id": "f4f8ec48",
   "metadata": {},
   "outputs": [],
   "source": [
    "## Iterating over Dictionaries\n",
    "\n",
    "## for key in dict_1.keys():\n",
    "##    print(key)"
   ]
  },
  {
   "cell_type": "code",
   "execution_count": 29,
   "id": "2915a84e",
   "metadata": {},
   "outputs": [],
   "source": [
    "## for value in dict_1.values():\n",
    "##    print(value)"
   ]
  },
  {
   "cell_type": "code",
   "execution_count": 31,
   "id": "69e6ec8c",
   "metadata": {},
   "outputs": [],
   "source": [
    "## for key in dict_1.keys():\n",
    "##   print(key)"
   ]
  },
  {
   "cell_type": "code",
   "execution_count": 32,
   "id": "88c63fa5",
   "metadata": {},
   "outputs": [],
   "source": [
    "## for value in dict_1.values():\n",
    "##   print(values)"
   ]
  },
  {
   "cell_type": "code",
   "execution_count": 34,
   "id": "fd646e80",
   "metadata": {},
   "outputs": [],
   "source": [
    "## for key,values in dict_1.items():\n",
    "##   print(f\" {key}: {values}\")"
   ]
  },
  {
   "cell_type": "code",
   "execution_count": 38,
   "id": "a6fefa86",
   "metadata": {},
   "outputs": [
    {
     "name": "stdout",
     "output_type": "stream",
     "text": [
      "{'name': 'Aliza', 'age': 20, 'Department': 'CS', 'Club': 'YPDC'}\n",
      "{'name': 'Laika', 'age': 21, 'Department': 'CS', 'Club': 'YPDC'}\n"
     ]
    }
   ],
   "source": [
    "## Nested Dictionaries\n",
    "\n",
    "nest_dict = {\n",
    "    \"2022-ag-4002\": {\"name\":\"Aliza\", \"age\":20,\"Department\":\"CS\", \"Club\": \"YPDC\"},\n",
    "    \"2022-ag-4004\": {\"name\":\"Laika\", \"age\":21,\"Department\":\"CS\", \"Club\": \"YPDC\"}\n",
    "}\n",
    "print(nest_dict[\"2022-ag-4002\"])\n",
    "print(nest_dict[\"2022-ag-4004\"])"
   ]
  },
  {
   "cell_type": "code",
   "execution_count": 41,
   "id": "f283318b",
   "metadata": {},
   "outputs": [
    {
     "name": "stdout",
     "output_type": "stream",
     "text": [
      "2022-ag-4002 -> name:Aliza\n",
      "2022-ag-4002 -> age:20\n",
      "2022-ag-4002 -> Department:CS\n",
      "2022-ag-4002 -> Club:YPDC\n",
      "2022-ag-4004 -> name:Laika\n",
      "2022-ag-4004 -> age:21\n",
      "2022-ag-4004 -> Department:CS\n",
      "2022-ag-4004 -> Club:YPDC\n"
     ]
    }
   ],
   "source": [
    "## Iterating over nested dictionaries\n",
    "\n",
    "for key,value in nest_dict.items():\n",
    "    for i,j in value.items():\n",
    "        print(f\"{key} -> {i}:{j}\")"
   ]
  },
  {
   "cell_type": "code",
   "execution_count": 42,
   "id": "dc4edc76",
   "metadata": {},
   "outputs": [
    {
     "name": "stdout",
     "output_type": "stream",
     "text": [
      "{1: 6, 2: 3, 4: 4, 7: 3, 9: 7, 11: 2}\n"
     ]
    }
   ],
   "source": [
    "numbers = [1,1,1,1,2,2,2,4,4,4,4,7,7,7,9,9,9,9,9,9,9,11,1,11,1]\n",
    "\n",
    "frequency = {}\n",
    "\n",
    "for i in numbers:\n",
    "    if i in frequency:\n",
    "        frequency[i]+=1\n",
    "    else:\n",
    "        frequency[i]=1\n",
    "        \n",
    "print(frequency)\n"
   ]
  },
  {
   "cell_type": "code",
   "execution_count": 43,
   "id": "1a25f272",
   "metadata": {},
   "outputs": [],
   "source": [
    "import json"
   ]
  },
  {
   "cell_type": "code",
   "execution_count": 45,
   "id": "dbdc9eba",
   "metadata": {},
   "outputs": [],
   "source": [
    "## parsed_data = json.dumps(dict_1)"
   ]
  },
  {
   "cell_type": "code",
   "execution_count": 47,
   "id": "5a31bc3a",
   "metadata": {},
   "outputs": [],
   "source": [
    "## print(parsed_data)"
   ]
  },
  {
   "cell_type": "code",
   "execution_count": 49,
   "id": "ccd9fd4a",
   "metadata": {},
   "outputs": [],
   "source": [
    "## Converting to json strings\n",
    "\n",
    "## parsed_data = json.dumps(nest_di)\n",
    "## print(parsed_data)\n",
    "\n",
    "## nested_di = json.loads(parsed_data)\n",
    "## print(nested_di)"
   ]
  }
 ],
 "metadata": {
  "kernelspec": {
   "display_name": "Python 3",
   "language": "python",
   "name": "python3"
  },
  "language_info": {
   "codemirror_mode": {
    "name": "ipython",
    "version": 3
   },
   "file_extension": ".py",
   "mimetype": "text/x-python",
   "name": "python",
   "nbconvert_exporter": "python",
   "pygments_lexer": "ipython3",
   "version": "3.13.5"
  }
 },
 "nbformat": 4,
 "nbformat_minor": 5
}
