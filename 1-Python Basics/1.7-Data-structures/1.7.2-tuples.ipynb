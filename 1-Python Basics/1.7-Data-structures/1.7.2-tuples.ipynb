{
 "cells": [
  {
   "cell_type": "markdown",
   "id": "df385699",
   "metadata": {},
   "source": [
    "## Tuples in Python\n",
    "- Creating tuples\n",
    "- Accessing tuples\n",
    "- methods\n",
    "- packing and unpacking \n",
    "- etc"
   ]
  },
  {
   "cell_type": "code",
   "execution_count": 1,
   "id": "9ffa5fa2",
   "metadata": {},
   "outputs": [
    {
     "name": "stdout",
     "output_type": "stream",
     "text": [
      "<class 'tuple'>\n"
     ]
    }
   ],
   "source": [
    "## Tuples\n",
    "## Immutable\n",
    "\n",
    "tpl = (1,\"Aliza\",3.5,True)\n",
    "print(type(tpl))"
   ]
  },
  {
   "cell_type": "code",
   "execution_count": 2,
   "id": "e83bb3b3",
   "metadata": {},
   "outputs": [
    {
     "name": "stdout",
     "output_type": "stream",
     "text": [
      "<class 'tuple'>\n"
     ]
    }
   ],
   "source": [
    "tpl = 1,2,3,4,5,6\n",
    "print(type(tpl))\n"
   ]
  },
  {
   "cell_type": "code",
   "execution_count": null,
   "id": "438ff5f1",
   "metadata": {},
   "outputs": [
    {
     "name": "stdout",
     "output_type": "stream",
     "text": [
      "<class 'tuple'>\n"
     ]
    }
   ],
   "source": [
    "lst = [1,2,3,4,5,\"Aliza\",\"laika\",\"alisha\",True,False,3.5,4.5]\n",
    "\n",
    "tpl = tuple(lst) ## Type Casting\n",
    "print(type(tpl))"
   ]
  },
  {
   "cell_type": "code",
   "execution_count": 6,
   "id": "a0a7dcc5",
   "metadata": {},
   "outputs": [
    {
     "name": "stdout",
     "output_type": "stream",
     "text": [
      "3\n",
      "False\n",
      "(1, 2, 3, 4, 5, 'Aliza', 'laika', 'alisha', True, False, 3.5, 4.5)\n",
      "(1, 2, 3, 4, 5)\n",
      "(3, 4, 5, 'Aliza', 'laika')\n",
      "(5, 'laika', True, 3.5)\n",
      "(4.5, 3.5, False, True, 'alisha', 'laika', 'Aliza', 5, 4, 3, 2, 1)\n"
     ]
    }
   ],
   "source": [
    "## Accessing Tuple elements\n",
    "## Indexing\n",
    "print(tpl[2])\n",
    "print(tpl[9])\n",
    "\n",
    "# Slicing Operations\n",
    "\n",
    "print(tpl[0:])\n",
    "print(tpl[:5])\n",
    "print(tpl[2:7])\n",
    "print(tpl[4::2])\n",
    "\n",
    "## Reverse Form\n",
    "print(tpl[::-1])"
   ]
  },
  {
   "cell_type": "code",
   "execution_count": 7,
   "id": "b0663ec2",
   "metadata": {},
   "outputs": [
    {
     "name": "stdout",
     "output_type": "stream",
     "text": [
      "1\n",
      "5\n"
     ]
    }
   ],
   "source": [
    "## Operatons and Methods\n",
    "\n",
    "print(tpl.count(\"Aliza\"))\n",
    "print(tpl.index(\"Aliza\"))"
   ]
  },
  {
   "cell_type": "code",
   "execution_count": 8,
   "id": "5b486af6",
   "metadata": {},
   "outputs": [
    {
     "data": {
      "text/plain": [
       "(1,\n",
       " 2,\n",
       " 3,\n",
       " 4,\n",
       " 5,\n",
       " 'Aliza',\n",
       " 'laika',\n",
       " 'alisha',\n",
       " True,\n",
       " False,\n",
       " 3.5,\n",
       " 4.5,\n",
       " 1,\n",
       " 2,\n",
       " 3,\n",
       " 4,\n",
       " 5,\n",
       " 'Aliza',\n",
       " 'laika',\n",
       " 'alisha',\n",
       " True,\n",
       " False,\n",
       " 3.5,\n",
       " 4.5,\n",
       " 1,\n",
       " 2,\n",
       " 3,\n",
       " 4,\n",
       " 5,\n",
       " 'Aliza',\n",
       " 'laika',\n",
       " 'alisha',\n",
       " True,\n",
       " False,\n",
       " 3.5,\n",
       " 4.5)"
      ]
     },
     "execution_count": 8,
     "metadata": {},
     "output_type": "execute_result"
    }
   ],
   "source": [
    "tpl*3"
   ]
  },
  {
   "cell_type": "code",
   "execution_count": 10,
   "id": "89b20ec3",
   "metadata": {},
   "outputs": [
    {
     "name": "stdout",
     "output_type": "stream",
     "text": [
      "(1, 2, 3, 4, 5, 'Aliza', 'laika', 'alisha', True, False, 3.5, 4.5, 1, 2, 3, 4, 5, 6, 7)\n"
     ]
    }
   ],
   "source": [
    "## Concatination\n",
    "\n",
    "numbers = (1,2,3,4,5,6,7)\n",
    "\n",
    "mixed_tpl = tpl + numbers\n",
    "\n",
    "print(mixed_tpl)\n"
   ]
  },
  {
   "cell_type": "code",
   "execution_count": 11,
   "id": "75901a27",
   "metadata": {},
   "outputs": [],
   "source": [
    "## Packing and Unpacking\n",
    "\n",
    "tpl = 2,3,4,5,\"Aliza\",\"20\",\"Computer science\""
   ]
  },
  {
   "cell_type": "code",
   "execution_count": 12,
   "id": "25c960d3",
   "metadata": {},
   "outputs": [
    {
     "name": "stdout",
     "output_type": "stream",
     "text": [
      "2\n",
      "[3, 4, 5, 'Aliza', '20']\n",
      "Computer science\n"
     ]
    }
   ],
   "source": [
    "## unpacking tuple with *\n",
    "\n",
    "first, *middle, last = tpl\n",
    "\n",
    "print(first)\n",
    "print(middle)\n",
    "print(last)"
   ]
  },
  {
   "cell_type": "code",
   "execution_count": 13,
   "id": "3809389f",
   "metadata": {},
   "outputs": [
    {
     "name": "stdout",
     "output_type": "stream",
     "text": [
      "Aliza\n",
      "Laika\n",
      "Alisha\n"
     ]
    }
   ],
   "source": [
    "## 2nd technique for unpacking tuples\n",
    "\n",
    "tpl = \"Aliza\", \"Laika\", \"Alisha\"\n",
    "\n",
    "a,b,c = tpl\n",
    "print(a)\n",
    "print(b)\n",
    "print(c)"
   ]
  },
  {
   "cell_type": "code",
   "execution_count": 14,
   "id": "3b3d5c85",
   "metadata": {},
   "outputs": [
    {
     "name": "stdout",
     "output_type": "stream",
     "text": [
      "Hi,2\n",
      "Hi,3\n",
      "Hi,4\n",
      "Hi,5\n",
      "Hi,Aliza\n",
      "Hi,20\n",
      "Hi,Computer science\n"
     ]
    }
   ],
   "source": [
    "## Iterating over tuples\n",
    "tpl = 2,3,4,5,\"Aliza\",\"20\",\"Computer science\"\n",
    "\n",
    "for i in tpl:\n",
    "    print(f\"Hi,{i}\")"
   ]
  },
  {
   "cell_type": "code",
   "execution_count": 15,
   "id": "a488a976",
   "metadata": {},
   "outputs": [],
   "source": [
    "## Nested Tuples\n",
    "\n",
    "nested_list = [[1,2,3,4],[\"aliza\",\"laika\",\"alisha\"],[True,False,True]]\n",
    "\n",
    "nested_tuple = ((1,2,3,4),(\"aliza\",\"laika\",\"alisha\"),(True,False,True))"
   ]
  },
  {
   "cell_type": "code",
   "execution_count": 18,
   "id": "72563253",
   "metadata": {},
   "outputs": [
    {
     "name": "stdout",
     "output_type": "stream",
     "text": [
      "2\n",
      "4\n",
      "6\n",
      "8\n",
      "alizaaliza\n",
      "laikalaika\n",
      "alishaalisha\n",
      "2\n",
      "0\n",
      "2\n"
     ]
    }
   ],
   "source": [
    "for i in nested_tuple:\n",
    "    for j in i:\n",
    "        print(f\"{j*2}\")"
   ]
  },
  {
   "cell_type": "code",
   "execution_count": 1,
   "id": "58d081e5",
   "metadata": {},
   "outputs": [],
   "source": [
    "## Nested Tuples\n",
    "\n",
    "nested_list = [[1,2,3,4],[\"aliza\",\"laika\",\"alisha\"],[True,False,True]]\n",
    "\n",
    "nested_tuple = ((1,2,3,4),(\"aliza\",\"laika\",\"alisha\"),(True,False,True))"
   ]
  },
  {
   "cell_type": "code",
   "execution_count": 2,
   "id": "189f979c",
   "metadata": {},
   "outputs": [
    {
     "name": "stdout",
     "output_type": "stream",
     "text": [
      "[[1, 2, 'UAF', 4], ['aliza', 'laika', 'alisha'], [True, False, True]]\n"
     ]
    }
   ],
   "source": [
    "## Modifying the list element \n",
    "\n",
    "nested_list[0][2] = \"UAF\"\n",
    "print(nested_list)"
   ]
  },
  {
   "cell_type": "code",
   "execution_count": null,
   "id": "8f75b155",
   "metadata": {},
   "outputs": [],
   "source": [
    "## Modifying the Tuple\n",
    "\n",
    "## nested_tuple[1][1] = \"Second name\"  \n",
    "## print(nested_tuple)     ## not run and show error because tuples are immutable"
   ]
  }
 ],
 "metadata": {
  "kernelspec": {
   "display_name": "Python 3",
   "language": "python",
   "name": "python3"
  },
  "language_info": {
   "codemirror_mode": {
    "name": "ipython",
    "version": 3
   },
   "file_extension": ".py",
   "mimetype": "text/x-python",
   "name": "python",
   "nbconvert_exporter": "python",
   "pygments_lexer": "ipython3",
   "version": "3.13.5"
  }
 },
 "nbformat": 4,
 "nbformat_minor": 5
}
