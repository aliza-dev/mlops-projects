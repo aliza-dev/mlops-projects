{
 "cells": [
  {
   "cell_type": "markdown",
   "id": "a2a8dac0",
   "metadata": {},
   "source": [
    "## Sets in python\n",
    "\n",
    "- Creating sets\n",
    "- Accessing elements\n",
    "- Methods and Operations"
   ]
  },
  {
   "cell_type": "code",
   "execution_count": 1,
   "id": "33d7ee3e",
   "metadata": {},
   "outputs": [
    {
     "name": "stdout",
     "output_type": "stream",
     "text": [
      "<class 'set'>\n"
     ]
    }
   ],
   "source": [
    "## Sets\n",
    "## Unordered , unique elements\n",
    "\n",
    "new_set = {1,2,3,4,5,6,7,8,9,1,2,3,4}\n",
    "print(type(new_set))"
   ]
  },
  {
   "cell_type": "code",
   "execution_count": 2,
   "id": "326c5504",
   "metadata": {},
   "outputs": [
    {
     "name": "stdout",
     "output_type": "stream",
     "text": [
      "{1, 2, 4, 5, 6, 7, 8, 9}\n"
     ]
    }
   ],
   "source": [
    "new_set = {1,2,2,2,2,2,4,4,4,4,5,5,5,5,6,7,8,9}\n",
    "print(new_set)"
   ]
  },
  {
   "cell_type": "code",
   "execution_count": null,
   "id": "e028127e",
   "metadata": {},
   "outputs": [
    {
     "name": "stdout",
     "output_type": "stream",
     "text": [
      "{1, 2, 3, 4, 5, 6, 7, 8, 9}\n"
     ]
    }
   ],
   "source": [
    "## Unique data points\n",
    "\n",
    "lst = [1,2,2,2,3,3,3,4,4,4,5,5,5,6,7,8,9]\n",
    "new_set = set(lst)\n",
    "print(new_set)"
   ]
  },
  {
   "cell_type": "code",
   "execution_count": 3,
   "id": "97893e28",
   "metadata": {},
   "outputs": [
    {
     "data": {
      "text/plain": [
       "['__and__',\n",
       " '__class__',\n",
       " '__class_getitem__',\n",
       " '__contains__',\n",
       " '__delattr__',\n",
       " '__dir__',\n",
       " '__doc__',\n",
       " '__eq__',\n",
       " '__format__',\n",
       " '__ge__',\n",
       " '__getattribute__',\n",
       " '__getstate__',\n",
       " '__gt__',\n",
       " '__hash__',\n",
       " '__iand__',\n",
       " '__init__',\n",
       " '__init_subclass__',\n",
       " '__ior__',\n",
       " '__isub__',\n",
       " '__iter__',\n",
       " '__ixor__',\n",
       " '__le__',\n",
       " '__len__',\n",
       " '__lt__',\n",
       " '__ne__',\n",
       " '__new__',\n",
       " '__or__',\n",
       " '__rand__',\n",
       " '__reduce__',\n",
       " '__reduce_ex__',\n",
       " '__repr__',\n",
       " '__ror__',\n",
       " '__rsub__',\n",
       " '__rxor__',\n",
       " '__setattr__',\n",
       " '__sizeof__',\n",
       " '__str__',\n",
       " '__sub__',\n",
       " '__subclasshook__',\n",
       " '__xor__',\n",
       " 'add',\n",
       " 'clear',\n",
       " 'copy',\n",
       " 'difference',\n",
       " 'difference_update',\n",
       " 'discard',\n",
       " 'intersection',\n",
       " 'intersection_update',\n",
       " 'isdisjoint',\n",
       " 'issubset',\n",
       " 'issuperset',\n",
       " 'pop',\n",
       " 'remove',\n",
       " 'symmetric_difference',\n",
       " 'symmetric_difference_update',\n",
       " 'union',\n",
       " 'update']"
      ]
     },
     "execution_count": 3,
     "metadata": {},
     "output_type": "execute_result"
    }
   ],
   "source": [
    "dir(new_set)"
   ]
  },
  {
   "cell_type": "code",
   "execution_count": null,
   "id": "3f583871",
   "metadata": {},
   "outputs": [
    {
     "name": "stdout",
     "output_type": "stream",
     "text": [
      "{1, 2, 3, 4, 5, 6}\n"
     ]
    }
   ],
   "source": [
    "## Methods and Operations\n",
    "\n",
    "set_1 = {1,2,3,4,5}\n",
    "set_1.add(6)\n",
    "print(set_1)"
   ]
  },
  {
   "cell_type": "code",
   "execution_count": 9,
   "id": "eaf5b748",
   "metadata": {},
   "outputs": [
    {
     "name": "stdout",
     "output_type": "stream",
     "text": [
      "{1, 2, 4, 5}\n"
     ]
    }
   ],
   "source": [
    "set_1 = {1,2,3,4,5}\n",
    "set_1.remove(3)\n",
    "print(set_1)"
   ]
  },
  {
   "cell_type": "code",
   "execution_count": 10,
   "id": "97ba7b7e",
   "metadata": {},
   "outputs": [
    {
     "name": "stdout",
     "output_type": "stream",
     "text": [
      "{1, 2, 4, 5}\n"
     ]
    }
   ],
   "source": [
    "print(set_1)"
   ]
  },
  {
   "cell_type": "code",
   "execution_count": 11,
   "id": "61a4b40d",
   "metadata": {},
   "outputs": [
    {
     "name": "stdout",
     "output_type": "stream",
     "text": [
      "{1, 2, 4, 5, 6, 7, 8, 9}\n",
      "{4, 5}\n",
      "{1, 2}\n"
     ]
    }
   ],
   "source": [
    "set_2 = {4,5,6,7,8,9}\n",
    "print(set_1.union(set_2))\n",
    "print(set_1.intersection(set_2))\n",
    "print(set_1.difference(set_2))"
   ]
  },
  {
   "cell_type": "code",
   "execution_count": 12,
   "id": "28220ff9",
   "metadata": {},
   "outputs": [
    {
     "name": "stdout",
     "output_type": "stream",
     "text": [
      "{1, 2, 6, 7, 8, 9}\n"
     ]
    }
   ],
   "source": [
    "## Symmetric Difference\n",
    "print(set_1.symmetric_difference(set_2))"
   ]
  },
  {
   "cell_type": "code",
   "execution_count": 14,
   "id": "162819f8",
   "metadata": {},
   "outputs": [],
   "source": [
    "text = \"This is a sample text with several words This is a sample text with several words\""
   ]
  },
  {
   "cell_type": "code",
   "execution_count": 16,
   "id": "b74766f3",
   "metadata": {},
   "outputs": [
    {
     "name": "stdout",
     "output_type": "stream",
     "text": [
      "['This', 'is', 'a', 'sample', 'text', 'with', 'several', 'words', 'This', 'is', 'a', 'sample', 'text', 'with', 'several', 'words']\n",
      "{'is', 'text', 'several', 'with', 'This', 'sample', 'a', 'words'}\n",
      "8\n"
     ]
    }
   ],
   "source": [
    "## Splitting the Text\n",
    "\n",
    "words= text.split()\n",
    "print(words)\n",
    "\n",
    "## Type casting to set\n",
    "\n",
    "unique_words = set(words)\n",
    "print(unique_words)\n",
    "print(len(unique_words))"
   ]
  }
 ],
 "metadata": {
  "kernelspec": {
   "display_name": "Python 3",
   "language": "python",
   "name": "python3"
  },
  "language_info": {
   "codemirror_mode": {
    "name": "ipython",
    "version": 3
   },
   "file_extension": ".py",
   "mimetype": "text/x-python",
   "name": "python",
   "nbconvert_exporter": "python",
   "pygments_lexer": "ipython3",
   "version": "3.13.5"
  }
 },
 "nbformat": 4,
 "nbformat_minor": 5
}
